{
  "nbformat": 4,
  "nbformat_minor": 0,
  "metadata": {
    "colab": {
      "provenance": []
    },
    "kernelspec": {
      "name": "python3",
      "display_name": "Python 3"
    },
    "language_info": {
      "name": "python"
    }
  },
  "cells": [
    {
      "cell_type": "code",
      "execution_count": 2,
      "metadata": {
        "colab": {
          "base_uri": "https://localhost:8080/"
        },
        "id": "XWerY1Z8ezNN",
        "outputId": "cbb980b2-4564-49d4-8d55-517d27b012e6"
      },
      "outputs": [
        {
          "output_type": "stream",
          "name": "stdout",
          "text": [
            "Collecting qrcode[pil]\n",
            "  Downloading qrcode-8.2-py3-none-any.whl.metadata (17 kB)\n",
            "Requirement already satisfied: pillow>=9.1.0 in /usr/local/lib/python3.12/dist-packages (from qrcode[pil]) (11.3.0)\n",
            "Downloading qrcode-8.2-py3-none-any.whl (45 kB)\n",
            "\u001b[2K   \u001b[90m━━━━━━━━━━━━━━━━━━━━━━━━━━━━━━━━━━━━━━━━\u001b[0m \u001b[32m46.0/46.0 kB\u001b[0m \u001b[31m1.5 MB/s\u001b[0m eta \u001b[36m0:00:00\u001b[0m\n",
            "\u001b[?25hInstalling collected packages: qrcode\n",
            "Successfully installed qrcode-8.2\n",
            "Collecting segno\n",
            "  Downloading segno-1.6.6-py3-none-any.whl.metadata (7.7 kB)\n",
            "Downloading segno-1.6.6-py3-none-any.whl (76 kB)\n",
            "\u001b[2K   \u001b[90m━━━━━━━━━━━━━━━━━━━━━━━━━━━━━━━━━━━━━━━━\u001b[0m \u001b[32m76.5/76.5 kB\u001b[0m \u001b[31m2.8 MB/s\u001b[0m eta \u001b[36m0:00:00\u001b[0m\n",
            "\u001b[?25hInstalling collected packages: segno\n",
            "Successfully installed segno-1.6.6\n"
          ]
        }
      ],
      "source": [
        "# qrcode with pillow for PNG\n",
        "!pip install qrcode[pil]\n",
        "\n",
        "# segno for SVG / higher-quality vector QR\n",
        "!pip install segno\n"
      ]
    },
    {
      "cell_type": "code",
      "source": [
        "import qrcode\n",
        "from IPython.display import display, Image\n",
        "\n",
        "def make_qr(text, out_path=\"qrcode.png\", box_size=10, border=4,\n",
        "            error_correction=qrcode.constants.ERROR_CORRECT_M, show=True):\n",
        "    \"\"\"\n",
        "    Create and save a QR code PNG from text or URL.\n",
        "    - box_size: pixel size of each QR module\n",
        "    - border\n",
        "    - error_correction: ERROR_CORRECT_L/M/Q/H\n",
        "    - show: display the QR code in the output\n",
        "    \"\"\"\n",
        "    qr = qrcode.QRCode(\n",
        "        version=None,\n",
        "        error_correction=error_correction,\n",
        "        box_size=box_size,\n",
        "        border=border,\n",
        "    )\n",
        "    qr.add_data(text)\n",
        "    qr.make(fit=True)\n",
        "\n",
        "    img = qr.make_image(fill_color=\"black\", back_color=\"white\")\n",
        "    img.save(out_path)\n",
        "\n",
        "    print(f\"saved QR to {out_path}\")\n",
        "    if show:\n",
        "        display(Image(filename=out_path))\n",
        "\n",
        "user_input = input(\"Enter text or URL to generate QR: \")\n",
        "filename = \"user_qr.png\"\n",
        "\n",
        "make_qr(user_input, filename)\n"
      ],
      "metadata": {
        "colab": {
          "base_uri": "https://localhost:8080/",
          "height": 343
        },
        "id": "ShvXDqILfkpY",
        "outputId": "93733a50-e97f-4e0d-aad2-2f682ce7c945"
      },
      "execution_count": 7,
      "outputs": [
        {
          "output_type": "stream",
          "name": "stdout",
          "text": [
            "Enter text or URL to generate QR: hi in shnavi \n",
            "saved QR to user_qr.png\n"
          ]
        },
        {
          "output_type": "display_data",
          "data": {
            "image/png": "[encoded data removed]",
            "text/plain": [
              "<IPython.core.display.Image object>"
            ]
          },
          "metadata": {}
        }
      ]
    }
  ]
}