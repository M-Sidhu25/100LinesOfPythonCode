# Random Walk Art

import cv2 as cv
from google.colab.patches import cv2_imshow   # for colab
import numpy as np
import random

canvas = np.zeros((800, 800, 3), dtype=np.uint8)

for _ in range(random.randint(100, 200)) :
  color = (random.randint(0, 255), random.randint(0, 255), random.randint(0, 255))
  x = random.randint(0, 800)
  y = random.randint(0, 800)
  centre = (random.randint(0, 800), random.randint(0, 800))
  radius = random.randint(0, 800)
  shape = random.choice(["circle", "line", "rectangle", "ellipse"])
  thickness = random.randint(1, 5)

  if shape == "circle":
    cv.circle(canvas, centre, radius, color, thickness)
  elif shape == "rectangle":
    cv.rectangle(canvas, (x, y), (x, y), color, thickness)
  elif shape == "ellipse":
    cv.ellipse(canvas, centre, (radius, radius), random.randint(0, 360), random.randint(0, 360), random.randint(0, 360), color, thickness)
  elif shape == "line":
    cv.line(canvas, (x, y), (x, y), color, thickness)

cv2_imshow(canvas)   # for colab
cv.waitKey(0)
cv.destroyAllWindows()