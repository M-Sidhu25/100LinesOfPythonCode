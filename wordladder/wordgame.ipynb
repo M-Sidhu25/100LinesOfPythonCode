{
  "nbformat": 4,
  "nbformat_minor": 0,
  "metadata": {
    "colab": {
      "provenance": []
    },
    "kernelspec": {
      "name": "python3",
      "display_name": "Python 3"
    },
    "language_info": {
      "name": "python"
    }
  },
  "cells": [
    {
      "cell_type": "code",
      "source": [
        "from collections import deque\n",
        "\n",
        "def word_ladder_paths(start, end, word_list):\n",
        "    \"\"\"\n",
        "    Generate all valid paths from start to end by changing one letter at a time.\n",
        "    Each intermediate word must exist in word_list.\n",
        "    \"\"\"\n",
        "    word_list = set(word_list)\n",
        "    if end not in word_list:\n",
        "        print(f\"End word '{end}' not found in dictionary.\")\n",
        "        return []\n",
        "\n",
        "    queue = deque([[start]])\n",
        "    visited = set([start])\n",
        "    found_paths = []\n",
        "    word_len = len(start)\n",
        "\n",
        "    while queue:\n",
        "        path = queue.popleft()\n",
        "        word = path[-1]\n",
        "\n",
        "        if word == end:\n",
        "            found_paths.append(path)\n",
        "            continue\n",
        "\n",
        "        for i in range(word_len):\n",
        "            for c in \"abcdefghijklmnopqrstuvwxyz\":\n",
        "                new_word = word[:i] + c + word[i+1:]\n",
        "                if new_word in word_list and new_word not in visited:\n",
        "                    queue.append(path + [new_word])\n",
        "                    visited.add(new_word)\n",
        "\n",
        "    return found_paths\n",
        "\n",
        "\n",
        "#  User Input\n",
        "start_word = input(\"Enter start word: \").strip().lower()\n",
        "end_word = input(\"Enter end word: \").strip().lower()\n",
        "\n",
        "print(\"\\nEnter your dictionary words (space-separated):\")\n",
        "word_list_input = input(\"> \").strip().lower().split()\n",
        "\n",
        "# Run word ladder\n",
        "paths = word_ladder_paths(start_word, end_word, word_list_input)\n",
        "\n",
        "if paths:\n",
        "    print(f\"\\n Found {len(paths)} valid path(s):\\n\")\n",
        "    for i, p in enumerate(paths, 1):\n",
        "        print(f\"Path {i}: \" + \" → \".join(p))\n",
        "else:\n",
        "    print(\"\\n No valid transformation found.\")\n"
      ],
      "metadata": {
        "colab": {
          "base_uri": "https://localhost:8080/"
        },
        "id": "k_bhM5MhlnM6",
        "outputId": "7a1440bb-101d-4f59-db5c-3b273d2f23f9"
      },
      "execution_count": 3,
      "outputs": [
        {
          "output_type": "stream",
          "name": "stdout",
          "text": [
            "Enter start word: fi\n",
            "Enter end word: gi\n",
            "\n",
            "Enter your dictionary words (space-separated):\n",
            "> fi gi\n",
            "\n",
            " Found 1 valid path(s):\n",
            "\n",
            "Path 1: fi → gi\n"
          ]
        }
      ]
    },
    {
      "cell_type": "code",
      "execution_count": null,
      "metadata": {
        "id": "DP5iY87KlmFe"
      },
      "outputs": [],
      "source": []
    }
  ]
}