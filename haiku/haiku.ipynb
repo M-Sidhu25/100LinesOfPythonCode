{
  "nbformat": 4,
  "nbformat_minor": 0,
  "metadata": {
    "colab": {
      "provenance": []
    },
    "kernelspec": {
      "name": "python3",
      "display_name": "Python 3"
    },
    "language_info": {
      "name": "python"
    }
  },
  "cells": [
    {
      "cell_type": "code",
      "source": [
        "import random\n",
        "\n",
        "# Small word bank\n",
        "five_syllables = [\n",
        "    \"whispers in the wind\",\n",
        "    \"soft rain on the leaves\",\n",
        "    \"autumn moonlight falls\",\n",
        "    \"waves touch the still shore\",\n",
        "    \"snowflakes dance at dawn\",\n",
        "    \"sunrise warms the field\",\n",
        "    \"old pond, frog jumps in\"\n",
        "]\n",
        "\n",
        "seven_syllables = [\n",
        "    \"a bird sings beyond the clouds\",\n",
        "    \"memories drift through the night\",\n",
        "    \"shadows stretch across the road\",\n",
        "    \"cherry blossoms gently fade\",\n",
        "    \"the sky hums a lonely tune\",\n",
        "    \"lanterns glow where dreams begin\"\n",
        "]\n",
        "\n",
        "def generate_haiku():\n",
        "    line1 = random.choice(five_syllables)\n",
        "    line2 = random.choice(seven_syllables)\n",
        "    line3 = random.choice(five_syllables)\n",
        "    return f\"{line1}\\n{line2}\\n{line3}\"\n",
        "\n",
        "# Generate multiple haikus\n",
        "for _ in range(5):\n",
        "    print(\" ~HAIKU~\")\n",
        "    print(generate_haiku())\n",
        "    print(\"-\" * 30)\n"
      ],
      "metadata": {
        "colab": {
          "base_uri": "https://localhost:8080/"
        },
        "id": "16Ex1coHlYDb",
        "outputId": "08a505b4-952a-4cee-c945-a0ba316bb0f5"
      },
      "execution_count": 12,
      "outputs": [
        {
          "output_type": "stream",
          "name": "stdout",
          "text": [
            " ~HAIKU~\n",
            "sunrise warms the field\n",
            "shadows stretch across the road\n",
            "waves touch the still shore\n",
            "------------------------------\n",
            " ~HAIKU~\n",
            "old pond, frog jumps in\n",
            "lanterns glow where dreams begin\n",
            "waves touch the still shore\n",
            "------------------------------\n",
            " ~HAIKU~\n",
            "soft rain on the leaves\n",
            "cherry blossoms gently fade\n",
            "sunrise warms the field\n",
            "------------------------------\n",
            " ~HAIKU~\n",
            "autumn moonlight falls\n",
            "cherry blossoms gently fade\n",
            "snowflakes dance at dawn\n",
            "------------------------------\n",
            " ~HAIKU~\n",
            "old pond, frog jumps in\n",
            "a bird sings beyond the clouds\n",
            "snowflakes dance at dawn\n",
            "------------------------------\n"
          ]
        }
      ]
    },
    {
      "cell_type": "code",
      "source": [],
      "metadata": {
        "id": "9bWrZX8HmPdJ"
      },
      "execution_count": null,
      "outputs": []
    }
  ]
}