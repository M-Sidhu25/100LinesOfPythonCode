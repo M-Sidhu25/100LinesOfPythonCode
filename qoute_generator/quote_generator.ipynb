import requests
import json
import os
import random
from datetime import datetime

FAV_FILE = "favorites.json"
API_URL = "https://api.quotable.io/random"

def fetch_quote():
    """Fetch a random quote from the API"""
    try:
        response = requests.get(API_URL, timeout=5)
        data = response.json()
        return {"content": data["content"], "author": data["author"]}
    except Exception:
        return {"content": "Keep going, you’re doing great!", "author": "Unknown"}

def show_quote(quote):
    """Print quote with style"""
    print("\n✨ Quote of the Moment ✨")
    print(f"“{quote['content']}”")
    print(f"— {quote['author']}\n")

def save_favorite(quote):
    """Save a favorite quote locally"""
    favorites = load_favorites()
    favorites.append(quote)
    with open(FAV_FILE, "w") as f:
        json.dump(favorites, f, indent=4)
    print("✅ Saved to favorites!\n")

def load_favorites():
    """Load saved quotes"""
    if not os.path.exists(FAV_FILE):
        return []
    with open(FAV_FILE, "r") as f:
        return json.load(f)

def show_favorites():
    """Display all saved favorite quotes"""
    favorites = load_favorites()
    if not favorites:
        print("😕 No favorites yet.\n")
        return
    print("\n❤️ Your Favorite Quotes ❤️")
    for i, q in enumerate(favorites, 1):
        print(f"{i}. “{q['content']}” — {q['author']}")
    print()

def random_favorite():
    """Show a random favorite quote"""
    favorites = load_favorites()
    if not favorites:
        print("No favorites found.\n")
        return
    q = random.choice(favorites)
    print("\n🎲 Random Favorite:")
    print(f"“{q['content']}” — {q['author']}\n")

def main():
    while True:
        print("===== AI Quote Generator =====")
        print("1. Get New Quote")
        print("2. Show Favorites")
        print("3. Random Favorite")
        print("4. Exit")
        choice = input("Enter your choice: ")

        if choice == "1":
            q = fetch_quote()
            show_quote(q)
            save = input("Save this quote? (y/n): ").lower()
            if save == "y":
                save_favorite(q)
        elif choice == "2":
            show_favorites()
        elif choice == "3":
            random_favorite()
        elif choice == "4":
            print(f"👋 Goodbye! Session ended at {datetime.now().strftime('%H:%M:%S')}")
            break
        else:
            print("Invalid choice! Try again.\n")

if __name__ == "__main__":
    main()
